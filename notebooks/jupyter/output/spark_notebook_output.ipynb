{
 "cells": [
  {
   "attachments": {},
   "cell_type": "markdown",
   "id": "6f1666e3",
   "metadata": {
    "papermill": {
     "duration": 0.002959,
     "end_time": "2023-03-16T06:17:47.013493",
     "exception": false,
     "start_time": "2023-03-16T06:17:47.010534",
     "status": "completed"
    },
    "tags": []
   },
   "source": [
    "# Notebook for Sample Spark Session\n",
    "This file creates Spark Session for Electric Vehicle Population, loads csv file in GCS and perform fundamental Spark functions"
   ]
  },
  {
   "cell_type": "code",
   "execution_count": 1,
   "id": "d8e49655",
   "metadata": {
    "execution": {
     "iopub.execute_input": "2023-03-16T06:17:47.020378Z",
     "iopub.status.busy": "2023-03-16T06:17:47.019701Z",
     "iopub.status.idle": "2023-03-16T06:17:47.024487Z",
     "shell.execute_reply": "2023-03-16T06:17:47.023736Z"
    },
    "papermill": {
     "duration": 0.010258,
     "end_time": "2023-03-16T06:17:47.026348",
     "exception": false,
     "start_time": "2023-03-16T06:17:47.016090",
     "status": "completed"
    },
    "tags": []
   },
   "outputs": [],
   "source": [
    "# !spark-shell"
   ]
  },
  {
   "cell_type": "code",
   "execution_count": 2,
   "id": "28587036",
   "metadata": {
    "execution": {
     "iopub.execute_input": "2023-03-16T06:17:47.033158Z",
     "iopub.status.busy": "2023-03-16T06:17:47.032245Z",
     "iopub.status.idle": "2023-03-16T06:18:09.280521Z",
     "shell.execute_reply": "2023-03-16T06:18:09.279100Z"
    },
    "papermill": {
     "duration": 22.254788,
     "end_time": "2023-03-16T06:18:09.283430",
     "exception": false,
     "start_time": "2023-03-16T06:17:47.028642",
     "status": "completed"
    },
    "tags": []
   },
   "outputs": [
    {
     "name": "stdout",
     "output_type": "stream",
     "text": [
      "+----------+---------+------------+-----+-----------+----------+---------+-------+---------------------+-------------------------------------------------+--------------+---------+--------------------+--------------+--------------------+--------------------+-----------------+\n",
      "|VIN (1-10)|   County|        City|State|Postal Code|Model Year|     Make|  Model|Electric Vehicle Type|Clean Alternative Fuel Vehicle (CAFV) Eligibility|Electric Range|Base MSRP|Legislative District|DOL Vehicle ID|    Vehicle Location|    Electric Utility|2020 Census Tract|\n",
      "+----------+---------+------------+-----+-----------+----------+---------+-------+---------------------+-------------------------------------------------+--------------+---------+--------------------+--------------+--------------------+--------------------+-----------------+\n",
      "|5YJ3E1EB2J|  Suffolk|     Suffolk|   VA|      23435|      2018|    TESLA|MODEL 3| Battery Electric ...|                             Clean Alternative...|           215|        0|                null|     476647986|POINT (-76.42443 ...|                null|      51800075203|\n",
      "|5YJ3E1ECXL|   Yakima|      Yakima|   WA|      98908|      2020|    TESLA|MODEL 3| Battery Electric ...|                             Clean Alternative...|           308|        0|                  14|     103490145|POINT (-120.56916...|          PACIFICORP|      53077000401|\n",
      "|WA1LAAGE7M|   Yakima|      Yakima|   WA|      98908|      2021|     AUDI| E-TRON| Battery Electric ...|                             Clean Alternative...|           222|        0|                  14|     144941534|POINT (-120.56916...|          PACIFICORP|      53077002801|\n",
      "|5YJ3E1EA1K| Danville|    Danville|   VA|      24541|      2019|    TESLA|MODEL 3| Battery Electric ...|                             Clean Alternative...|           220|        0|                null|     168513922|POINT (-79.4172 3...|                null|      51590001100|\n",
      "|1FADP5CU9E|  Norfolk|     Norfolk|   VA|      23518|      2014|     FORD|  C-MAX| Plug-in Hybrid El...|                             Not eligible due ...|            19|        0|                null|     150749378|POINT (-76.21549 ...|                null|      51710006502|\n",
      "|1N4AZ0CP1F| Thurston|     Olympia|   WA|      98502|      2015|   NISSAN|   LEAF| Battery Electric ...|                             Clean Alternative...|            84|        0|                  22|     226741833|POINT (-122.92333...|PUGET SOUND ENERG...|      53067010600|\n",
      "|1G1RH6E48D| Thurston|      Tenino|   WA|      98589|      2013|CHEVROLET|   VOLT| Plug-in Hybrid El...|                             Clean Alternative...|            38|        0|                  20|     183558777|POINT (-122.85135...|PUGET SOUND ENERG...|      53067012610|\n",
      "|5YJSA1E13G|Snohomish|     Bothell|   WA|      98021|      2016|    TESLA|MODEL S| Battery Electric ...|                             Clean Alternative...|           210|        0|                   1|     135989157|POINT (-122.18384...|PUGET SOUND ENERG...|      53061051937|\n",
      "|1N4AZ1CP0J|     King|     Seattle|   WA|      98112|      2018|   NISSAN|   LEAF| Battery Electric ...|                             Clean Alternative...|           151|        0|                  43|     349862502|POINT (-122.30716...|CITY OF SEATTLE -...|      53033006400|\n",
      "|5YJ3E1EB0J| Kittitas|    Cle Elum|   WA|      98922|      2018|    TESLA|MODEL 3| Battery Electric ...|                             Clean Alternative...|           215|        0|                  13|     473459815|POINT (-120.93943...|PUGET SOUND ENERG...|      53037975101|\n",
      "|5YJXCBE28G|Snohomish|   Snohomish|   WA|      98296|      2016|    TESLA|MODEL X| Battery Electric ...|                             Clean Alternative...|           200|        0|                   1|     208620772|POINT (-122.1389 ...|PUGET SOUND ENERG...|      53061052112|\n",
      "|1G1FW6S0XJ|   Chelan| Leavenworth|   WA|      98826|      2018|CHEVROLET|BOLT EV| Battery Electric ...|                             Clean Alternative...|           238|        0|                  12|     122982548|POINT (-120.65754...|PUD NO 1 OF CHELA...|      53007960201|\n",
      "|KNDCE3LG9L|     King|    Kirkland|   WA|      98033|      2020|      KIA|   NIRO| Battery Electric ...|                             Clean Alternative...|           239|        0|                  48|     153982097|POINT (-122.2066 ...|PUGET SOUND ENERG...|      53033022702|\n",
      "|1N4AZ1CP0J|   Kitsap|Port Orchard|   WA|      98366|      2018|   NISSAN|   LEAF| Battery Electric ...|                             Clean Alternative...|           151|        0|                  26|     192769097|POINT (-122.63847...|PUGET SOUND ENERG...|      53035092600|\n",
      "|5YJ3E1EA8K|Snohomish|Lake Stevens|   WA|      98258|      2019|    TESLA|MODEL 3| Battery Electric ...|                             Clean Alternative...|           220|        0|                  44|     476748793|POINT (-122.06402...|PUGET SOUND ENERG...|      53061052604|\n",
      "|1N4AZ0CP8D|Snohomish|Lake Stevens|   WA|      98258|      2013|   NISSAN|   LEAF| Battery Electric ...|                             Clean Alternative...|            75|        0|                  44|     120397357|POINT (-122.06402...|PUGET SOUND ENERG...|      53061052506|\n",
      "|5YJ3E1EB6J|   Skagit|Mount Vernon|   WA|      98274|      2018|    TESLA|MODEL 3| Battery Electric ...|                             Clean Alternative...|           215|        0|                  10|     168971449|POINT (-122.32267...|PUGET SOUND ENERG...|      53057951200|\n",
      "|3C3CFFGE5H|Snohomish|     Bothell|   WA|      98012|      2017|     FIAT|    500| Battery Electric ...|                             Clean Alternative...|            84|        0|                   1|     123235990|POINT (-122.21061...|PUGET SOUND ENERG...|      53061052107|\n",
      "|1N4AZ0CP0F|   DeKalb|     Decatur|   GA|      30030|      2015|   NISSAN|   LEAF| Battery Electric ...|                             Clean Alternative...|            84|        0|                null|     133085886|POINT (-84.29658 ...|                null|      13089022700|\n",
      "|5YJ3E1EA2K|    Grant|  Moses Lake|   WA|      98837|      2019|    TESLA|MODEL 3| Battery Electric ...|                             Clean Alternative...|           220|        0|                  13|     171036680|POINT (-119.2771 ...|PUD NO 2 OF GRANT...|      53025011001|\n",
      "+----------+---------+------------+-----+-----------+----------+---------+-------+---------------------+-------------------------------------------------+--------------+---------+--------------------+--------------+--------------------+--------------------+-----------------+\n",
      "only showing top 20 rows\n",
      "\n"
     ]
    }
   ],
   "source": [
    "from pyspark.sql import SparkSession\n",
    "from pyspark.sql.functions import avg, sum, max\n",
    "\n",
    "spark = SparkSession \\\n",
    "    .builder \\\n",
    "    .appName(\"Spark Session for Electric Vehicle Population\") \\\n",
    "    .getOrCreate()\n",
    "\n",
    "gcs_bucket = \"kristin-0105\"\n",
    "path=f\"gs://{gcs_bucket}/dataproc_serverless/notebooks/datasets/electric_vehicle_population.csv\"\n",
    "df = spark.read.csv(path, header=True)\n",
    "df.show()"
   ]
  },
  {
   "cell_type": "markdown",
   "id": "b85c0732",
   "metadata": {
    "papermill": {
     "duration": 0.004111,
     "end_time": "2023-03-16T06:18:09.291905",
     "exception": false,
     "start_time": "2023-03-16T06:18:09.287794",
     "status": "completed"
    },
    "tags": []
   },
   "source": []
  },
  {
   "cell_type": "code",
   "execution_count": 3,
   "id": "addea29a",
   "metadata": {
    "execution": {
     "iopub.execute_input": "2023-03-16T06:18:09.302513Z",
     "iopub.status.busy": "2023-03-16T06:18:09.301561Z",
     "iopub.status.idle": "2023-03-16T06:18:09.314263Z",
     "shell.execute_reply": "2023-03-16T06:18:09.313315Z"
    },
    "papermill": {
     "duration": 0.023315,
     "end_time": "2023-03-16T06:18:09.319331",
     "exception": false,
     "start_time": "2023-03-16T06:18:09.296016",
     "status": "completed"
    },
    "tags": []
   },
   "outputs": [
    {
     "name": "stdout",
     "output_type": "stream",
     "text": [
      "root\n",
      " |-- VIN (1-10): string (nullable = true)\n",
      " |-- County: string (nullable = true)\n",
      " |-- City: string (nullable = true)\n",
      " |-- State: string (nullable = true)\n",
      " |-- Postal Code: string (nullable = true)\n",
      " |-- Model Year: string (nullable = true)\n",
      " |-- Make: string (nullable = true)\n",
      " |-- Model: string (nullable = true)\n",
      " |-- Electric Vehicle Type: string (nullable = true)\n",
      " |-- Clean Alternative Fuel Vehicle (CAFV) Eligibility: string (nullable = true)\n",
      " |-- Electric Range: string (nullable = true)\n",
      " |-- Base MSRP: string (nullable = true)\n",
      " |-- Legislative District: string (nullable = true)\n",
      " |-- DOL Vehicle ID: string (nullable = true)\n",
      " |-- Vehicle Location: string (nullable = true)\n",
      " |-- Electric Utility: string (nullable = true)\n",
      " |-- 2020 Census Tract: string (nullable = true)\n",
      "\n"
     ]
    }
   ],
   "source": [
    "df.printSchema()"
   ]
  },
  {
   "cell_type": "code",
   "execution_count": 4,
   "id": "f0eb4211",
   "metadata": {
    "execution": {
     "iopub.execute_input": "2023-03-16T06:18:09.339477Z",
     "iopub.status.busy": "2023-03-16T06:18:09.339036Z",
     "iopub.status.idle": "2023-03-16T06:18:09.965190Z",
     "shell.execute_reply": "2023-03-16T06:18:09.964073Z"
    },
    "papermill": {
     "duration": 0.643736,
     "end_time": "2023-03-16T06:18:09.967387",
     "exception": false,
     "start_time": "2023-03-16T06:18:09.323651",
     "status": "completed"
    },
    "tags": []
   },
   "outputs": [
    {
     "name": "stdout",
     "output_type": "stream",
     "text": [
      "+----------+--------+--------+-----+-----------+----------+-----+-------+---------------------+-------------------------------------------------+--------------+---------+--------------------+--------------+--------------------+----------------+-----------------+\n",
      "|VIN (1-10)|  County|    City|State|Postal Code|Model Year| Make|  Model|Electric Vehicle Type|Clean Alternative Fuel Vehicle (CAFV) Eligibility|Electric Range|Base MSRP|Legislative District|DOL Vehicle ID|    Vehicle Location|Electric Utility|2020 Census Tract|\n",
      "+----------+--------+--------+-----+-----------+----------+-----+-------+---------------------+-------------------------------------------------+--------------+---------+--------------------+--------------+--------------------+----------------+-----------------+\n",
      "|5YJ3E1EB2J| Suffolk| Suffolk|   VA|      23435|      2018|TESLA|MODEL 3| Battery Electric ...|                             Clean Alternative...|           215|        0|                null|     476647986|POINT (-76.42443 ...|            null|      51800075203|\n",
      "|5YJ3E1ECXL|  Yakima|  Yakima|   WA|      98908|      2020|TESLA|MODEL 3| Battery Electric ...|                             Clean Alternative...|           308|        0|                  14|     103490145|POINT (-120.56916...|      PACIFICORP|      53077000401|\n",
      "|WA1LAAGE7M|  Yakima|  Yakima|   WA|      98908|      2021| AUDI| E-TRON| Battery Electric ...|                             Clean Alternative...|           222|        0|                  14|     144941534|POINT (-120.56916...|      PACIFICORP|      53077002801|\n",
      "|5YJ3E1EA1K|Danville|Danville|   VA|      24541|      2019|TESLA|MODEL 3| Battery Electric ...|                             Clean Alternative...|           220|        0|                null|     168513922|POINT (-79.4172 3...|            null|      51590001100|\n",
      "|1FADP5CU9E| Norfolk| Norfolk|   VA|      23518|      2014| FORD|  C-MAX| Plug-in Hybrid El...|                             Not eligible due ...|            19|        0|                null|     150749378|POINT (-76.21549 ...|            null|      51710006502|\n",
      "+----------+--------+--------+-----+-----------+----------+-----+-------+---------------------+-------------------------------------------------+--------------+---------+--------------------+--------------+--------------------+----------------+-----------------+\n",
      "only showing top 5 rows\n",
      "\n"
     ]
    }
   ],
   "source": [
    "df.show(5)"
   ]
  },
  {
   "cell_type": "code",
   "execution_count": 5,
   "id": "794f4075",
   "metadata": {
    "execution": {
     "iopub.execute_input": "2023-03-16T06:18:09.975004Z",
     "iopub.status.busy": "2023-03-16T06:18:09.974520Z",
     "iopub.status.idle": "2023-03-16T06:18:16.953015Z",
     "shell.execute_reply": "2023-03-16T06:18:16.951935Z"
    },
    "papermill": {
     "duration": 6.985788,
     "end_time": "2023-03-16T06:18:16.956042",
     "exception": false,
     "start_time": "2023-03-16T06:18:09.970254",
     "status": "completed"
    },
    "tags": []
   },
   "outputs": [
    {
     "name": "stdout",
     "output_type": "stream",
     "text": [
      "number of rows:  121978\n"
     ]
    }
   ],
   "source": [
    "num_rows = df.count()\n",
    "print(\"number of rows: \", num_rows)"
   ]
  },
  {
   "cell_type": "code",
   "execution_count": 6,
   "id": "660f8071",
   "metadata": {
    "execution": {
     "iopub.execute_input": "2023-03-16T06:18:16.966661Z",
     "iopub.status.busy": "2023-03-16T06:18:16.966286Z",
     "iopub.status.idle": "2023-03-16T06:18:19.634221Z",
     "shell.execute_reply": "2023-03-16T06:18:19.633249Z"
    },
    "papermill": {
     "duration": 2.675652,
     "end_time": "2023-03-16T06:18:19.636661",
     "exception": false,
     "start_time": "2023-03-16T06:18:16.961009",
     "status": "completed"
    },
    "tags": []
   },
   "outputs": [
    {
     "name": "stdout",
     "output_type": "stream",
     "text": [
      "+-------+------------------+\n",
      "|summary|        Model Year|\n",
      "+-------+------------------+\n",
      "|  count|            121978|\n",
      "|   mean|2019.3088999655677|\n",
      "| stddev|2.9563504561406617|\n",
      "|    min|              1997|\n",
      "|    max|              2023|\n",
      "+-------+------------------+\n",
      "\n"
     ]
    }
   ],
   "source": [
    "df.describe('Model Year').show()"
   ]
  },
  {
   "cell_type": "code",
   "execution_count": 7,
   "id": "da0017aa",
   "metadata": {
    "execution": {
     "iopub.execute_input": "2023-03-16T06:18:19.644246Z",
     "iopub.status.busy": "2023-03-16T06:18:19.643893Z",
     "iopub.status.idle": "2023-03-16T06:18:21.534162Z",
     "shell.execute_reply": "2023-03-16T06:18:21.533227Z"
    },
    "papermill": {
     "duration": 1.89687,
     "end_time": "2023-03-16T06:18:21.536618",
     "exception": false,
     "start_time": "2023-03-16T06:18:19.639748",
     "status": "completed"
    },
    "tags": []
   },
   "outputs": [
    {
     "data": {
      "text/plain": [
       "120"
      ]
     },
     "execution_count": 7,
     "metadata": {},
     "output_type": "execute_result"
    }
   ],
   "source": [
    "df.select('Model').distinct().count()"
   ]
  },
  {
   "cell_type": "code",
   "execution_count": 8,
   "id": "c5b9ddcc",
   "metadata": {
    "execution": {
     "iopub.execute_input": "2023-03-16T06:18:21.544837Z",
     "iopub.status.busy": "2023-03-16T06:18:21.544493Z",
     "iopub.status.idle": "2023-03-16T06:18:22.420233Z",
     "shell.execute_reply": "2023-03-16T06:18:22.419268Z"
    },
    "papermill": {
     "duration": 0.882559,
     "end_time": "2023-03-16T06:18:22.422458",
     "exception": false,
     "start_time": "2023-03-16T06:18:21.539899",
     "status": "completed"
    },
    "tags": []
   },
   "outputs": [
    {
     "name": "stdout",
     "output_type": "stream",
     "text": [
      "+----------+---------+---------+-----+-----------+----------+-----+-------+---------------------+-------------------------------------------------+--------------+---------+--------------------+--------------+--------------------+--------------------+-----------------+\n",
      "|VIN (1-10)|   County|     City|State|Postal Code|Model Year| Make|  Model|Electric Vehicle Type|Clean Alternative Fuel Vehicle (CAFV) Eligibility|Electric Range|Base MSRP|Legislative District|DOL Vehicle ID|    Vehicle Location|    Electric Utility|2020 Census Tract|\n",
      "+----------+---------+---------+-----+-----------+----------+-----+-------+---------------------+-------------------------------------------------+--------------+---------+--------------------+--------------+--------------------+--------------------+-----------------+\n",
      "|WA1LAAGE7M|   Yakima|   Yakima|   WA|      98908|      2021| AUDI| E-TRON| Battery Electric ...|                             Clean Alternative...|           222|        0|                  14|     144941534|POINT (-120.56916...|          PACIFICORP|      53077002801|\n",
      "|5UXTA6C09M| Kittitas|   Ronald|   WA|      98940|      2021|  BMW|     X5| Plug-in Hybrid El...|                             Clean Alternative...|            30|        0|                  13|     132655575|POINT (-121.02627...|PUGET SOUND ENERG...|      53037975101|\n",
      "|YV4BR0DL8N| Thurston|  Olympia|   WA|      98502|      2022|VOLVO|   XC60| Plug-in Hybrid El...|                             Not eligible due ...|            18|        0|                  22|     192758177|POINT (-122.92333...|PUGET SOUND ENERG...|      53067010600|\n",
      "|WA1E2AFY9N|Snohomish|Snohomish|   WA|      98296|      2022| AUDI|     Q5| Plug-in Hybrid El...|                             Not eligible due ...|            22|        0|                   1|     198672946|POINT (-122.1389 ...|PUGET SOUND ENERG...|      53061052122|\n",
      "|7SAYGDEE7N|   Yakima|   Yakima|   WA|      98908|      2022|TESLA|MODEL Y| Battery Electric ...|                             Eligibility unkno...|             0|        0|                  14|     216648813|POINT (-120.56916...|          PACIFICORP|      53077002801|\n",
      "+----------+---------+---------+-----+-----------+----------+-----+-------+---------------------+-------------------------------------------------+--------------+---------+--------------------+--------------+--------------------+--------------------+-----------------+\n",
      "only showing top 5 rows\n",
      "\n"
     ]
    }
   ],
   "source": [
    "df.filter(df['Model Year'] > 2020).show(5)"
   ]
  },
  {
   "cell_type": "code",
   "execution_count": 9,
   "id": "6e1e126a",
   "metadata": {
    "execution": {
     "iopub.execute_input": "2023-03-16T06:18:22.431002Z",
     "iopub.status.busy": "2023-03-16T06:18:22.430689Z",
     "iopub.status.idle": "2023-03-16T06:18:23.704407Z",
     "shell.execute_reply": "2023-03-16T06:18:23.703394Z"
    },
    "papermill": {
     "duration": 1.282913,
     "end_time": "2023-03-16T06:18:23.708833",
     "exception": false,
     "start_time": "2023-03-16T06:18:22.425920",
     "status": "completed"
    },
    "tags": []
   },
   "outputs": [
    {
     "name": "stdout",
     "output_type": "stream",
     "text": [
      "+----------+------+-------------+-----+-----------+----------+----------+-------+---------------------+-------------------------------------------------+--------------+---------+--------------------+--------------+--------------------+--------------------+-----------------+\n",
      "|VIN (1-10)|County|         City|State|Postal Code|Model Year|      Make|  Model|Electric Vehicle Type|Clean Alternative Fuel Vehicle (CAFV) Eligibility|Electric Range|Base MSRP|Legislative District|DOL Vehicle ID|    Vehicle Location|    Electric Utility|2020 Census Tract|\n",
      "+----------+------+-------------+-----+-----------+----------+----------+-------+---------------------+-------------------------------------------------+--------------+---------+--------------------+--------------+--------------------+--------------------+-----------------+\n",
      "|5YJYGDEE7M|  King|         Kent|   WA|      98030|      2021|     TESLA|MODEL Y| Battery Electric ...|                             Eligibility unkno...|             0|        0|                  47|     144525699|POINT (-122.19564...|PUGET SOUND ENERG...|      53033029508|\n",
      "|7FCTGAAA4N|  King|Mercer Island|   WA|      98040|      2022|    RIVIAN|    R1T| Battery Electric ...|                             Eligibility unkno...|             0|        0|                  41|     212262060|POINT (-122.21238...|PUGET SOUND ENERG...|      53033024500|\n",
      "|WVGRMPE28M|  King|      Seattle|   WA|      98119|      2021|VOLKSWAGEN|   ID.4| Battery Electric ...|                             Eligibility unkno...|             0|        0|                  36|     171444815|POINT (-122.3684 ...|CITY OF SEATTLE -...|      53033005901|\n",
      "|5YJYGDEE1M|  King|    Sammamish|   WA|      98075|      2021|     TESLA|MODEL Y| Battery Electric ...|                             Eligibility unkno...|             0|        0|                  41|     166155405|POINT (-122.03539...|PUGET SOUND ENERG...|      53033032215|\n",
      "|7SAYGAEE4P|  King|     Issaquah|   WA|      98027|      2023|     TESLA|MODEL Y| Battery Electric ...|                             Eligibility unkno...|             0|        0|                   5|     221358672|POINT (-122.03439...|PUGET SOUND ENERG...|      53033032102|\n",
      "|7SAYGDEFXN| Clark|        Camas|   WA|      98607|      2022|     TESLA|MODEL Y| Battery Electric ...|                             Eligibility unkno...|             0|        0|                  18|     211479950|POINT (-122.40199...|BONNEVILLE POWER ...|      53011040608|\n",
      "|WBY73AW06P|  King|     Bellevue|   WA|      98005|      2023|       BMW|     I4| Battery Electric ...|                             Eligibility unkno...|             0|        0|                  48|     224655630|POINT (-122.1621 ...|PUGET SOUND ENERG...|      53033022805|\n",
      "|YV4ED3UR3M|  King|      Seattle|   WA|      98121|      2021|     VOLVO|   XC40| Battery Electric ...|                             Eligibility unkno...|             0|        0|                  43|     153787546|POINT (-122.34468...|CITY OF SEATTLE -...|      53033007302|\n",
      "|7SAYGDEE3N|  King|    Covington|   WA|      98042|      2022|     TESLA|MODEL Y| Battery Electric ...|                             Eligibility unkno...|             0|        0|                  47|     218099185|POINT (-122.09124...|PUGET SOUND ENERG...|      53033032007|\n",
      "|WVGGNPE26N|Kitsap|      Poulsbo|   WA|      98370|      2022|VOLKSWAGEN|   ID.4| Battery Electric ...|                             Eligibility unkno...|             0|        0|                  23|     218909134|POINT (-122.64681...|PUGET SOUND ENERG...|      53035940100|\n",
      "+----------+------+-------------+-----+-----------+----------+----------+-------+---------------------+-------------------------------------------------+--------------+---------+--------------------+--------------+--------------------+--------------------+-----------------+\n",
      "only showing top 10 rows\n",
      "\n"
     ]
    }
   ],
   "source": [
    "sortedByElectricRange = df.orderBy('Electric Range').show(10)"
   ]
  },
  {
   "cell_type": "code",
   "execution_count": 10,
   "id": "194b7e94",
   "metadata": {
    "execution": {
     "iopub.execute_input": "2023-03-16T06:18:23.722415Z",
     "iopub.status.busy": "2023-03-16T06:18:23.721933Z",
     "iopub.status.idle": "2023-03-16T06:18:23.727166Z",
     "shell.execute_reply": "2023-03-16T06:18:23.726151Z"
    },
    "papermill": {
     "duration": 0.015192,
     "end_time": "2023-03-16T06:18:23.729833",
     "exception": false,
     "start_time": "2023-03-16T06:18:23.714641",
     "status": "completed"
    },
    "tags": []
   },
   "outputs": [],
   "source": [
    "# Reference: https://www.nbshare.io/notebook/97969492/Data-Analysis-With-Pyspark-Dataframe/"
   ]
  }
 ],
 "metadata": {
  "application/vnd.databricks.v1+notebook": {
   "dashboards": [],
   "language": "python",
   "notebookMetadata": {
    "pythonIndentUnit": 4
   },
   "notebookName": "databricks_1",
   "notebookOrigID": 4205708762025595,
   "widgets": {}
  },
  "kernelspec": {
   "display_name": "Python 3",
   "language": "python",
   "name": "python3"
  },
  "language_info": {
   "codemirror_mode": {
    "name": "ipython",
    "version": 3
   },
   "file_extension": ".py",
   "mimetype": "text/x-python",
   "name": "python",
   "nbconvert_exporter": "python",
   "pygments_lexer": "ipython3",
   "version": "3.10.9"
  },
  "papermill": {
   "default_parameters": {},
   "duration": 41.686003,
   "end_time": "2023-03-16T06:18:24.058113",
   "environment_variables": {},
   "exception": null,
   "input_path": "input.ipynb",
   "output_path": "output.ipynb",
   "parameters": {},
   "start_time": "2023-03-16T06:17:42.372110",
   "version": "2.3.4"
  },
  "vscode": {
   "interpreter": {
    "hash": "aee8b7b246df8f9039afb4144a1f6fd8d2ca17a180786b69acc140d282b71a49"
   }
  }
 },
 "nbformat": 4,
 "nbformat_minor": 5
}